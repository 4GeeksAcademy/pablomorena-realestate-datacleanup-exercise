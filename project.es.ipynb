{
  "cells": [
    {
      "attachments": {},
      "cell_type": "markdown",
      "id": "innocent-university",
      "metadata": {},
      "source": [
        "# Limpieza de bienes raíces\n",
        "\n",
        "Este es un conjunto de datos (dataset) reales que fue descargado usando técnicas de web scraping. La data contiene registros de **Fotocasa**, el cual es uno de los sitios más populares de bienes raíces en España. Por favor no hagas esto (web scraping) a no ser que sea para propósitos académicos.\n",
        "\n",
        "El dataset fue descargado hace algunos años por Henry Navarro y en ningún caso se obtuvo beneficio económico de ello.\n",
        "\n",
        "Contiene miles de datos de casas reales publicadas en la web www.fotocasa.com. Tu objetivo es extraer tanta información como sea posible con el conocimiento que tienes hasta ahora de ciencia de datos, por ejemplo ¿cuál es la casa más cara en todo el dataset?\n",
        "\n",
        "Empecemos precisamente con esa pregunta... ¡Buena suerte!"
      ]
    },
    {
      "attachments": {},
      "cell_type": "markdown",
      "id": "multiple-glass",
      "metadata": {},
      "source": [
        "#### Ejercicio 00. Lee el dataset assets/real_estate.csv e intenta visualizar la tabla (★☆☆)"
      ]
    },
    {
      "cell_type": "code",
      "execution_count": 1,
      "id": "frank-heath",
      "metadata": {},
      "outputs": [
        {
          "data": {
            "text/html": [
              "<div>\n",
              "<style scoped>\n",
              "    .dataframe tbody tr th:only-of-type {\n",
              "        vertical-align: middle;\n",
              "    }\n",
              "\n",
              "    .dataframe tbody tr th {\n",
              "        vertical-align: top;\n",
              "    }\n",
              "\n",
              "    .dataframe thead th {\n",
              "        text-align: right;\n",
              "    }\n",
              "</style>\n",
              "<table border=\"1\" class=\"dataframe\">\n",
              "  <thead>\n",
              "    <tr style=\"text-align: right;\">\n",
              "      <th></th>\n",
              "      <th>Unnamed: 0</th>\n",
              "      <th>id_realEstates</th>\n",
              "      <th>isNew</th>\n",
              "      <th>realEstate_name</th>\n",
              "      <th>phone_realEstate</th>\n",
              "      <th>url_inmueble</th>\n",
              "      <th>rooms</th>\n",
              "      <th>bathrooms</th>\n",
              "      <th>surface</th>\n",
              "      <th>price</th>\n",
              "      <th>...</th>\n",
              "      <th>level4Id</th>\n",
              "      <th>level5Id</th>\n",
              "      <th>level6Id</th>\n",
              "      <th>level7Id</th>\n",
              "      <th>level8Id</th>\n",
              "      <th>accuracy</th>\n",
              "      <th>latitude</th>\n",
              "      <th>longitude</th>\n",
              "      <th>zipCode</th>\n",
              "      <th>customZone</th>\n",
              "    </tr>\n",
              "  </thead>\n",
              "  <tbody>\n",
              "    <tr>\n",
              "      <th>0</th>\n",
              "      <td>1</td>\n",
              "      <td>153771986</td>\n",
              "      <td>False</td>\n",
              "      <td>ferrari 57 inmobiliaria</td>\n",
              "      <td>912177526.0</td>\n",
              "      <td>https://www.fotocasa.es/es/comprar/vivienda/ma...</td>\n",
              "      <td>3.0</td>\n",
              "      <td>2.0</td>\n",
              "      <td>103.0</td>\n",
              "      <td>195000</td>\n",
              "      <td>...</td>\n",
              "      <td>0</td>\n",
              "      <td>0</td>\n",
              "      <td>0</td>\n",
              "      <td>0</td>\n",
              "      <td>0</td>\n",
              "      <td>0</td>\n",
              "      <td>40,2948276786438</td>\n",
              "      <td>-3,44402412135624</td>\n",
              "      <td>NaN</td>\n",
              "      <td>NaN</td>\n",
              "    </tr>\n",
              "    <tr>\n",
              "      <th>1</th>\n",
              "      <td>2</td>\n",
              "      <td>153867863</td>\n",
              "      <td>False</td>\n",
              "      <td>tecnocasa fuenlabrada ferrocarril</td>\n",
              "      <td>916358736.0</td>\n",
              "      <td>https://www.fotocasa.es/es/comprar/vivienda/ma...</td>\n",
              "      <td>3.0</td>\n",
              "      <td>1.0</td>\n",
              "      <td>NaN</td>\n",
              "      <td>89000</td>\n",
              "      <td>...</td>\n",
              "      <td>0</td>\n",
              "      <td>0</td>\n",
              "      <td>0</td>\n",
              "      <td>0</td>\n",
              "      <td>0</td>\n",
              "      <td>1</td>\n",
              "      <td>40,28674</td>\n",
              "      <td>-3,79351</td>\n",
              "      <td>NaN</td>\n",
              "      <td>NaN</td>\n",
              "    </tr>\n",
              "    <tr>\n",
              "      <th>2</th>\n",
              "      <td>3</td>\n",
              "      <td>153430440</td>\n",
              "      <td>False</td>\n",
              "      <td>look find boadilla</td>\n",
              "      <td>916350408.0</td>\n",
              "      <td>https://www.fotocasa.es/es/comprar/vivienda/ma...</td>\n",
              "      <td>2.0</td>\n",
              "      <td>2.0</td>\n",
              "      <td>99.0</td>\n",
              "      <td>390000</td>\n",
              "      <td>...</td>\n",
              "      <td>0</td>\n",
              "      <td>0</td>\n",
              "      <td>0</td>\n",
              "      <td>0</td>\n",
              "      <td>0</td>\n",
              "      <td>0</td>\n",
              "      <td>40,4115646786438</td>\n",
              "      <td>-3,90662252135624</td>\n",
              "      <td>NaN</td>\n",
              "      <td>NaN</td>\n",
              "    </tr>\n",
              "    <tr>\n",
              "      <th>3</th>\n",
              "      <td>4</td>\n",
              "      <td>152776331</td>\n",
              "      <td>False</td>\n",
              "      <td>tecnocasa fuenlabrada ferrocarril</td>\n",
              "      <td>916358736.0</td>\n",
              "      <td>https://www.fotocasa.es/es/comprar/vivienda/ma...</td>\n",
              "      <td>3.0</td>\n",
              "      <td>1.0</td>\n",
              "      <td>86.0</td>\n",
              "      <td>89000</td>\n",
              "      <td>...</td>\n",
              "      <td>0</td>\n",
              "      <td>0</td>\n",
              "      <td>0</td>\n",
              "      <td>0</td>\n",
              "      <td>0</td>\n",
              "      <td>0</td>\n",
              "      <td>40,2853785786438</td>\n",
              "      <td>-3,79508142135624</td>\n",
              "      <td>NaN</td>\n",
              "      <td>NaN</td>\n",
              "    </tr>\n",
              "    <tr>\n",
              "      <th>4</th>\n",
              "      <td>5</td>\n",
              "      <td>153180188</td>\n",
              "      <td>False</td>\n",
              "      <td>ferrari 57 inmobiliaria</td>\n",
              "      <td>912177526.0</td>\n",
              "      <td>https://www.fotocasa.es/es/comprar/vivienda/ma...</td>\n",
              "      <td>2.0</td>\n",
              "      <td>2.0</td>\n",
              "      <td>106.0</td>\n",
              "      <td>172000</td>\n",
              "      <td>...</td>\n",
              "      <td>0</td>\n",
              "      <td>0</td>\n",
              "      <td>0</td>\n",
              "      <td>0</td>\n",
              "      <td>0</td>\n",
              "      <td>0</td>\n",
              "      <td>40,2998774864376</td>\n",
              "      <td>-3,45226301356237</td>\n",
              "      <td>NaN</td>\n",
              "      <td>NaN</td>\n",
              "    </tr>\n",
              "    <tr>\n",
              "      <th>...</th>\n",
              "      <td>...</td>\n",
              "      <td>...</td>\n",
              "      <td>...</td>\n",
              "      <td>...</td>\n",
              "      <td>...</td>\n",
              "      <td>...</td>\n",
              "      <td>...</td>\n",
              "      <td>...</td>\n",
              "      <td>...</td>\n",
              "      <td>...</td>\n",
              "      <td>...</td>\n",
              "      <td>...</td>\n",
              "      <td>...</td>\n",
              "      <td>...</td>\n",
              "      <td>...</td>\n",
              "      <td>...</td>\n",
              "      <td>...</td>\n",
              "      <td>...</td>\n",
              "      <td>...</td>\n",
              "      <td>...</td>\n",
              "      <td>...</td>\n",
              "    </tr>\n",
              "    <tr>\n",
              "      <th>15330</th>\n",
              "      <td>15331</td>\n",
              "      <td>153901377</td>\n",
              "      <td>False</td>\n",
              "      <td>infocasa consulting</td>\n",
              "      <td>911360461.0</td>\n",
              "      <td>https://www.fotocasa.es/es/comprar/vivienda/ma...</td>\n",
              "      <td>2.0</td>\n",
              "      <td>1.0</td>\n",
              "      <td>96.0</td>\n",
              "      <td>259470</td>\n",
              "      <td>...</td>\n",
              "      <td>0</td>\n",
              "      <td>0</td>\n",
              "      <td>0</td>\n",
              "      <td>0</td>\n",
              "      <td>0</td>\n",
              "      <td>0</td>\n",
              "      <td>40,45416</td>\n",
              "      <td>-3,70286</td>\n",
              "      <td>NaN</td>\n",
              "      <td>NaN</td>\n",
              "    </tr>\n",
              "    <tr>\n",
              "      <th>15331</th>\n",
              "      <td>15332</td>\n",
              "      <td>150394373</td>\n",
              "      <td>False</td>\n",
              "      <td>inmobiliaria pulpon</td>\n",
              "      <td>912788039.0</td>\n",
              "      <td>https://www.fotocasa.es/es/comprar/vivienda/ma...</td>\n",
              "      <td>3.0</td>\n",
              "      <td>1.0</td>\n",
              "      <td>150.0</td>\n",
              "      <td>165000</td>\n",
              "      <td>...</td>\n",
              "      <td>0</td>\n",
              "      <td>0</td>\n",
              "      <td>0</td>\n",
              "      <td>0</td>\n",
              "      <td>0</td>\n",
              "      <td>0</td>\n",
              "      <td>40,36652</td>\n",
              "      <td>-3,48951</td>\n",
              "      <td>NaN</td>\n",
              "      <td>NaN</td>\n",
              "    </tr>\n",
              "    <tr>\n",
              "      <th>15332</th>\n",
              "      <td>15333</td>\n",
              "      <td>153901397</td>\n",
              "      <td>False</td>\n",
              "      <td>tecnocasa torrelodones</td>\n",
              "      <td>912780348.0</td>\n",
              "      <td>https://www.fotocasa.es/es/comprar/vivienda/ma...</td>\n",
              "      <td>4.0</td>\n",
              "      <td>2.0</td>\n",
              "      <td>175.0</td>\n",
              "      <td>495000</td>\n",
              "      <td>...</td>\n",
              "      <td>0</td>\n",
              "      <td>0</td>\n",
              "      <td>0</td>\n",
              "      <td>0</td>\n",
              "      <td>0</td>\n",
              "      <td>0</td>\n",
              "      <td>40,57444</td>\n",
              "      <td>-3,92124</td>\n",
              "      <td>NaN</td>\n",
              "      <td>NaN</td>\n",
              "    </tr>\n",
              "    <tr>\n",
              "      <th>15333</th>\n",
              "      <td>15334</td>\n",
              "      <td>152607440</td>\n",
              "      <td>False</td>\n",
              "      <td>inmobiliaria pulpon</td>\n",
              "      <td>912788039.0</td>\n",
              "      <td>https://www.fotocasa.es/es/comprar/vivienda/ma...</td>\n",
              "      <td>3.0</td>\n",
              "      <td>2.0</td>\n",
              "      <td>101.0</td>\n",
              "      <td>195000</td>\n",
              "      <td>...</td>\n",
              "      <td>0</td>\n",
              "      <td>0</td>\n",
              "      <td>0</td>\n",
              "      <td>0</td>\n",
              "      <td>0</td>\n",
              "      <td>0</td>\n",
              "      <td>40,36967</td>\n",
              "      <td>-3,48105</td>\n",
              "      <td>NaN</td>\n",
              "      <td>NaN</td>\n",
              "    </tr>\n",
              "    <tr>\n",
              "      <th>15334</th>\n",
              "      <td>15335</td>\n",
              "      <td>153901356</td>\n",
              "      <td>False</td>\n",
              "      <td>infocasa consulting</td>\n",
              "      <td>911360461.0</td>\n",
              "      <td>https://www.fotocasa.es/es/comprar/vivienda/ma...</td>\n",
              "      <td>3.0</td>\n",
              "      <td>2.0</td>\n",
              "      <td>152.0</td>\n",
              "      <td>765000</td>\n",
              "      <td>...</td>\n",
              "      <td>0</td>\n",
              "      <td>0</td>\n",
              "      <td>0</td>\n",
              "      <td>0</td>\n",
              "      <td>0</td>\n",
              "      <td>0</td>\n",
              "      <td>40,45773</td>\n",
              "      <td>-3,69068</td>\n",
              "      <td>NaN</td>\n",
              "      <td>NaN</td>\n",
              "    </tr>\n",
              "  </tbody>\n",
              "</table>\n",
              "<p>15335 rows × 37 columns</p>\n",
              "</div>"
            ],
            "text/plain": [
              "       Unnamed: 0  id_realEstates  isNew                    realEstate_name  \\\n",
              "0               1       153771986  False            ferrari 57 inmobiliaria   \n",
              "1               2       153867863  False  tecnocasa fuenlabrada ferrocarril   \n",
              "2               3       153430440  False                 look find boadilla   \n",
              "3               4       152776331  False  tecnocasa fuenlabrada ferrocarril   \n",
              "4               5       153180188  False            ferrari 57 inmobiliaria   \n",
              "...           ...             ...    ...                                ...   \n",
              "15330       15331       153901377  False                infocasa consulting   \n",
              "15331       15332       150394373  False                inmobiliaria pulpon   \n",
              "15332       15333       153901397  False             tecnocasa torrelodones   \n",
              "15333       15334       152607440  False                inmobiliaria pulpon   \n",
              "15334       15335       153901356  False                infocasa consulting   \n",
              "\n",
              "       phone_realEstate                                       url_inmueble  \\\n",
              "0           912177526.0  https://www.fotocasa.es/es/comprar/vivienda/ma...   \n",
              "1           916358736.0  https://www.fotocasa.es/es/comprar/vivienda/ma...   \n",
              "2           916350408.0  https://www.fotocasa.es/es/comprar/vivienda/ma...   \n",
              "3           916358736.0  https://www.fotocasa.es/es/comprar/vivienda/ma...   \n",
              "4           912177526.0  https://www.fotocasa.es/es/comprar/vivienda/ma...   \n",
              "...                 ...                                                ...   \n",
              "15330       911360461.0  https://www.fotocasa.es/es/comprar/vivienda/ma...   \n",
              "15331       912788039.0  https://www.fotocasa.es/es/comprar/vivienda/ma...   \n",
              "15332       912780348.0  https://www.fotocasa.es/es/comprar/vivienda/ma...   \n",
              "15333       912788039.0  https://www.fotocasa.es/es/comprar/vivienda/ma...   \n",
              "15334       911360461.0  https://www.fotocasa.es/es/comprar/vivienda/ma...   \n",
              "\n",
              "       rooms  bathrooms  surface   price  ... level4Id level5Id level6Id  \\\n",
              "0        3.0        2.0    103.0  195000  ...        0        0        0   \n",
              "1        3.0        1.0      NaN   89000  ...        0        0        0   \n",
              "2        2.0        2.0     99.0  390000  ...        0        0        0   \n",
              "3        3.0        1.0     86.0   89000  ...        0        0        0   \n",
              "4        2.0        2.0    106.0  172000  ...        0        0        0   \n",
              "...      ...        ...      ...     ...  ...      ...      ...      ...   \n",
              "15330    2.0        1.0     96.0  259470  ...        0        0        0   \n",
              "15331    3.0        1.0    150.0  165000  ...        0        0        0   \n",
              "15332    4.0        2.0    175.0  495000  ...        0        0        0   \n",
              "15333    3.0        2.0    101.0  195000  ...        0        0        0   \n",
              "15334    3.0        2.0    152.0  765000  ...        0        0        0   \n",
              "\n",
              "      level7Id level8Id accuracy          latitude          longitude zipCode  \\\n",
              "0            0        0        0  40,2948276786438  -3,44402412135624     NaN   \n",
              "1            0        0        1          40,28674           -3,79351     NaN   \n",
              "2            0        0        0  40,4115646786438  -3,90662252135624     NaN   \n",
              "3            0        0        0  40,2853785786438  -3,79508142135624     NaN   \n",
              "4            0        0        0  40,2998774864376  -3,45226301356237     NaN   \n",
              "...        ...      ...      ...               ...                ...     ...   \n",
              "15330        0        0        0          40,45416           -3,70286     NaN   \n",
              "15331        0        0        0          40,36652           -3,48951     NaN   \n",
              "15332        0        0        0          40,57444           -3,92124     NaN   \n",
              "15333        0        0        0          40,36967           -3,48105     NaN   \n",
              "15334        0        0        0          40,45773           -3,69068     NaN   \n",
              "\n",
              "      customZone  \n",
              "0            NaN  \n",
              "1            NaN  \n",
              "2            NaN  \n",
              "3            NaN  \n",
              "4            NaN  \n",
              "...          ...  \n",
              "15330        NaN  \n",
              "15331        NaN  \n",
              "15332        NaN  \n",
              "15333        NaN  \n",
              "15334        NaN  \n",
              "\n",
              "[15335 rows x 37 columns]"
            ]
          },
          "execution_count": 1,
          "metadata": {},
          "output_type": "execute_result"
        }
      ],
      "source": [
        "import pandas as pd\n",
        "\n",
        "# Este archivo CSV contiene puntos y comas en lugar de comas como separadores\n",
        "ds = pd.read_csv('assets/real_estate.csv', sep=';')\n",
        "ds"
      ]
    },
    {
      "attachments": {},
      "cell_type": "markdown",
      "id": "latin-guest",
      "metadata": {},
      "source": [
        "#### Ejercicio 01. ¿Cuál es la casa más cara en todo el dataset? (★☆☆)\n",
        "\n",
        "Imprime la dirección y el precio de la casa seleccionada. Por ejemplo:\n",
        "\n",
        "`La casa con dirección en Calle del Prado, Nº20 es la más cara y su precio es de 5000000 USD`"
      ]
    },
    {
      "cell_type": "code",
      "execution_count": 2,
      "id": "developing-optimum",
      "metadata": {},
      "outputs": [
        {
          "name": "stdout",
          "output_type": "stream",
          "text": [
            "La casa con dirección de El Escorial es la más cara y su precio es de 8500000 EUR\n"
          ]
        }
      ],
      "source": [
        "# TODO\n",
        "import pandas as pd\n",
        "ds = pd.read_csv('assets/real_estate.csv', sep=';')\n",
        "ds_orden=ds.sort_values(by=\"price\", ascending=False)\n",
        "ds_precio=ds_orden[\"price\"]\n",
        "ds_direccion=ds_orden[\"address\"]\n",
        "ds_max_price = ds_precio.iloc[0]\n",
        "ds_max_address = ds_direccion.iloc[0]\n",
        "print(f\"La casa con dirección de {ds_max_address} es la más cara y su precio es de {ds_max_price} EUR\")\n"
      ]
    },
    {
      "attachments": {},
      "cell_type": "markdown",
      "id": "lesser-cosmetic",
      "metadata": {},
      "source": [
        "#### Ejercicio 02. ¿Cuál es la casa más barata del dataset? (★☆☆)\n",
        "\n",
        "Imprime la dirección y el precio de la casa seleccionada. Por ejemplo:\n",
        "\n",
        "`La casa con dirección en Calle Alcalá, Nº58 es la más barata y su precio es de 12000 USD`"
      ]
    },
    {
      "cell_type": "code",
      "execution_count": 3,
      "id": "lovely-oasis",
      "metadata": {},
      "outputs": [
        {
          "name": "stdout",
          "output_type": "stream",
          "text": [
            "La casa con dirección de Pinto es la más barata y su precio es de 0 EUR\n"
          ]
        }
      ],
      "source": [
        "# TODO\n",
        "import pandas as pd\n",
        "ds = pd.read_csv('assets/real_estate.csv', sep=';')\n",
        "ds_orden=ds.sort_values(by=\"price\", ascending=True) #Ordeno el DataFrame según el precio de forma ascendente\n",
        "ds_precio=ds_orden[\"price\"] #Solamente tenemos los precios\n",
        "ds_direccion=ds_orden[\"address\"] #Solamente tenemos la dirección\n",
        "ds_min_price = ds_precio.iloc[0] #Escogemos el precio en el primer puesto que es el más elevado\n",
        "ds_min_address = ds_direccion.iloc[0] #Escogemos la dirección del piso con precio más elevado\n",
        "print(f\"La casa con dirección de {ds_min_address} es la más barata y su precio es de {ds_min_price} EUR\")"
      ]
    },
    {
      "attachments": {},
      "cell_type": "markdown",
      "id": "compliant-fellowship",
      "metadata": {},
      "source": [
        "#### Ejercicio 03. ¿Cuál es la casa más grande y la más pequeña del dataset? (★☆☆)\n",
        "\n",
        "Imprime la dirección y el área de las casas seleccionadas. Por ejemplo:\n",
        "\n",
        "`La casa más grande está ubicada en Calle Gran Vía, Nº38 y su superficie es de 5000 metros`\n",
        "\n",
        "`La casa más pequeña está ubicada en Calle Mayor, Nº12 y su superficie es de 200 metros`"
      ]
    },
    {
      "cell_type": "code",
      "execution_count": 4,
      "id": "every-tiffany",
      "metadata": {},
      "outputs": [
        {
          "name": "stdout",
          "output_type": "stream",
          "text": [
            "La casa más grande está ubicada en Sevilla la Nueva y su superficie es de 249000.0 metros\n",
            "La casa más pequeña está ubicada en Calle de Manuela Malasaña,  Madrid Capital y su superficie es de nan metros\n"
          ]
        }
      ],
      "source": [
        "# TODO\n",
        "import pandas as pd\n",
        "ds = pd.read_csv('assets/real_estate.csv', sep=';')\n",
        "\n",
        "\n",
        "#Casa grande\n",
        "ds_orden_max=ds.sort_values(by=\"surface\", ascending=False)\n",
        "ds_size=ds_orden_max[\"surface\"]\n",
        "ds_address=ds_orden_max[\"address\"]\n",
        "ds_max_size = ds_size.iloc[0]\n",
        "ds_max_address = ds_address.iloc[0]\n",
        "print(f\"La casa más grande está ubicada en {ds_max_address} y su superficie es de {ds_max_size} metros\")\n",
        "\n",
        "#Casa pequeña\n",
        "ds_min_size = ds_size.iloc[-1]\n",
        "ds_min_address = ds_address.iloc[-1]\n",
        "print(f\"La casa más pequeña está ubicada en {ds_min_address} y su superficie es de {ds_min_size} metros\")"
      ]
    },
    {
      "attachments": {},
      "cell_type": "markdown",
      "id": "danish-spirit",
      "metadata": {},
      "source": [
        "#### Ejercicio 04. ¿Cuantas poblaciones (columna level5) contiene el dataset? (★☆☆)\n",
        "\n",
        "Imprime el nombre de las poblaciones separadas por coma. Por ejemplo:\n",
        "\n",
        "`> print(populations)`\n",
        "\n",
        "`population1, population2, population3, ...`"
      ]
    },
    {
      "cell_type": "code",
      "execution_count": 5,
      "id": "exciting-accreditation",
      "metadata": {},
      "outputs": [
        {
          "name": "stdout",
          "output_type": "stream",
          "text": [
            " Madrid Capital, Alcalá de Henares, Las Rozas de Madrid, Móstoles, Getafe, San Sebastián de los Reyes, Boadilla del Monte, Parla, Valdemoro, Torrejón de Ardoz, Pozuelo de Alarcón, Alcobendas, Fuenlabrada, Collado Villalba, Arganda del Rey, Leganés, Alcorcón, Coslada, Villaviciosa de Odón, Pinto, Majadahonda, Aranjuez, Arroyomolinos (Madrid), Rivas-vaciamadrid, Torrelodones, Navalcarnero, El Escorial, Ciempozuelos, Galapagar, Velilla de San Antonio, Moralzarzal, San Lorenzo de El Escorial, Villanueva de la Cañada, Villanueva del Pardillo, San Martín de la Vega, Colmenar Viejo, El Álamo, Villalbilla, Miraflores de la Sierra, Humanes de Madrid, Alpedrete, Valdemorillo, Mejorada del Campo, Torrejón de la Calzada, Paracuellos de Jarama, Guadarrama, San Fernando de Henares, Meco, Camarma de Esteruelas, Tres Cantos, Algete, San Martín de Valdeiglesias, Robledo de Chavela, El Molar (Madrid), Manzanares El Real, Brunete, Loeches, Villa del Prado, Torres de la Alameda, Campo Real, Griñón, Daganzo de Arriba, Cubas de la Sagra, Soto del Real, Hoyo de Manzanares, El Boalo - Cerceda – Mataelpino, Colmenar de Oreja, Tielmes, San Agustín del Guadalix, Pedrezuela, Chinchón, Los Santos de la Humosa, Guadalix de la Sierra, Collado Mediano, Villarejo de Salvanés, Sevilla la Nueva, Pelayos de la Presa, Torrejón de Velasco, Ajalvir, Colmenarejo, Villamantilla, Talamanca de Jarama, Becerril de la Sierra, Quijorna, Morata de Tajuña, Navalagamella, Carabaña, Moraleja de Enmedio, Serranillos del Valle, Pozuelo del Rey, Valdetorres de Jarama, Cenicientos, Fresno de Torote - Serracines, Valdilecha, Valdeavero, Aldea del Fresno, Fuentidueña de Tajo, Ribatejada, Los Molinos, Venturada, Nuevo Baztán, Casarrubuelos, Gargantilla del Lozoya, Valdeolmos-Alalpardo, Cadalso de los Vidrios, Cercedilla, Titulcia, Torrelaguna, Orusco de Tajuña, Fuente El Saz de Jarama, Pezuela de las Torres, Cobeña, Corpa, Valdemaqueda, Belmonte de Tajo, Redueña, Bustarviejo, Fresnedillas de la Oliva, Santa María de la Alameda, Villamanta, Villar del Olmo, Garganta de los Montes, Villavieja del Lozoya, Valdelaguna, Navacerrada, Navas del Rey, Perales de Tajuña, Villanueva de Perales, Santorcaz, El Berrueco, Valdemanco, El Vellón, La Cabrera, Estremera, Cabanillas de la Sierra, Colmenar del Arroyo, Lozoyuela-navas-sieteiglesias, Buitrago del Lozoya, Valdepiélagos, Batres, Chapinería, Horcajo de la Sierra, Anchuelo, Valdaracete, Zarzalejo, Patones, Villamanrique de Tajo, Villaconejos, Valverde de Alcalá, Gascones, Puentes Viejas, Torremocha de Jarama, Robregordo, El Atazar, Madarcos, Braojos, Brea de Tajo, Piñuécar-gandullas, Ambite, Navarredonda, Canencia, Lozoya, Navalafuente, Fresno de Torote, Pinilla del Valle, Rascafría, La Hiruela, Montejo de la Sierra\n"
          ]
        }
      ],
      "source": [
        "# TODO\n",
        "import pandas as pd\n",
        "ds = pd.read_csv('assets/real_estate.csv', sep=';')\n",
        "\n",
        "poblacion = ds[\"level5\"].value_counts() #Hago el conteo de numero de veces que aparece cada ciudad\n",
        "population= \", \".join(poblacion.index) #Genero una variable en donde se agrupan los nombres en una lista\n",
        "print(population)"
      ]
    },
    {
      "attachments": {},
      "cell_type": "markdown",
      "id": "crazy-blame",
      "metadata": {},
      "source": [
        "#### Ejercicio 05. ¿El dataset contiene valores no admitidos (NAs)? (★☆☆)\n",
        "\n",
        "Imprima un booleano (`True` o `False`) seguido de la fila/columna que contiene el NAs."
      ]
    },
    {
      "cell_type": "code",
      "execution_count": 6,
      "id": "transparent-poetry",
      "metadata": {},
      "outputs": [
        {
          "name": "stdout",
          "output_type": "stream",
          "text": [
            "True realEstate_name\n",
            "True phone_realEstate\n",
            "True rooms\n",
            "True bathrooms\n",
            "True surface\n",
            "True description\n",
            "True level4\n",
            "True level6\n",
            "True level7\n",
            "True level8\n",
            "True zipCode\n",
            "True customZone\n",
            "False Unnamed: 0\n",
            "False id_realEstates\n",
            "False isNew\n",
            "False url_inmueble\n",
            "False price\n",
            "False date\n",
            "False address\n",
            "False country\n",
            "False level1\n",
            "False level2\n",
            "False level3\n",
            "False level5\n",
            "False upperLevel\n",
            "False countryId\n",
            "False level1Id\n",
            "False level2Id\n",
            "False level3Id\n",
            "False level4Id\n",
            "False level5Id\n",
            "False level6Id\n",
            "False level7Id\n",
            "False level8Id\n",
            "False accuracy\n",
            "False latitude\n",
            "False longitude\n"
          ]
        }
      ],
      "source": [
        "# TODO\n",
        "\n",
        "import pandas as pd\n",
        "ds = pd.read_csv('assets/real_estate.csv', sep=';')\n",
        "\n",
        "has_nas = ds.isna().any().any() #Observamos que lineas y que columnas tienen valores NAs\n",
        "del_nas = ds.dropna(axis=1, how=\"any\", inplace=False) #Creamos un DF eliminando las columnas que contengan un NA\n",
        "col_has_nas = ds.columns[ds.isna().any()].tolist() #Creamos una lista con las columnas que contienen algún\n",
        "for i in col_has_nas: #Imprimimos las columnas con NAs\n",
        "    print(\"True \" + i)\n",
        "for i in del_nas: #Imprimimos las columnas sin ningún NAs\n",
        "    print(\"False \" + i)"
      ]
    },
    {
      "attachments": {},
      "cell_type": "markdown",
      "id": "italic-hydrogen",
      "metadata": {},
      "source": [
        "#### Ejercicio 06. Elimina los NAs del dataset, si aplica (★★☆)\n",
        "\n",
        "Imprima una comparación entre las dimensiones del DataFrame original versus el DataFrame después de las eliminaciones.\n"
      ]
    },
    {
      "cell_type": "code",
      "execution_count": 7,
      "id": "administrative-roads",
      "metadata": {},
      "outputs": [
        {
          "name": "stdout",
          "output_type": "stream",
          "text": [
            "El tamaño del DataFrame antes es de 567395\n",
            "El tamaño del DataFrame después es de 0\n"
          ]
        }
      ],
      "source": [
        "# TODO\n",
        "\n",
        "import pandas as pd\n",
        "ds = pd.read_csv('assets/real_estate.csv', sep=';')\n",
        "ds_clean = ds.dropna(axis=0, how=\"any\", inplace=False) #Elimino las filas con al menos un valor nulo\n",
        "\n",
        "print(\"El tamaño del DataFrame antes es de \" + str(ds.size)) #Muestra el tamaño del original\n",
        "print(\"El tamaño del DataFrame después es de \" + str(ds_clean.size)) #Muestra el tamaño del actualizado"
      ]
    },
    {
      "attachments": {},
      "cell_type": "markdown",
      "id": "middle-china",
      "metadata": {},
      "source": [
        "#### Ejercicio 07. ¿Cuál la media de precios en la población (columna level5) de \"Arroyomolinos (Madrid)\"? (★★☆)\n",
        "\n",
        "Imprima el valor obtenido."
      ]
    },
    {
      "cell_type": "code",
      "execution_count": 8,
      "id": "nuclear-belief",
      "metadata": {},
      "outputs": [
        {
          "name": "stdout",
          "output_type": "stream",
          "text": [
            "El precio medio de Arroyomolinos es de 294541.60 EUR\n"
          ]
        }
      ],
      "source": [
        "# TODO\n",
        "\n",
        "import pandas as pd\n",
        "ds = pd.read_csv('assets/real_estate.csv', sep=';')\n",
        "\n",
        "precio_medio = ds.groupby(\"level5\")[\"price\"].mean() #Calculamos el precio medio de las ciudades (usamos groupby para agrupar por ciudades)\n",
        "precio_arroyomolinos = precio_medio[\"Arroyomolinos (Madrid)\"] #Cogemos el valor del precio medio de Arroyomolinos (Madrid)\n",
        "print(f\"El precio medio de Arroyomolinos es de {precio_arroyomolinos:.2f} EUR\") #Imprimimos el valor del precio medio de Arroyomolinos"
      ]
    },
    {
      "attachments": {},
      "cell_type": "markdown",
      "id": "concerned-radical",
      "metadata": {},
      "source": [
        "#### Ejercicio 08. Trazar el histograma de los precios para la población (level5 column) de \"Arroyomolinos (Madrid)\" y explica qué observas (★★☆)\n",
        "\n",
        "Imprime el histograma de los precios y escribe en la celda del Markdown un breve análisis del trazado.\n"
      ]
    },
    {
      "cell_type": "code",
      "execution_count": 9,
      "id": "sudden-message",
      "metadata": {},
      "outputs": [
        {
          "name": "stdout",
          "output_type": "stream",
          "text": [
            "[165338, 251646, 396000, 225000, 373000, 220000, 385000, 195000, 315000, 228000, 332500, 315400, 315400, 309000, 335000, 251621, 199000, 393000, 349000, 285000, 206000, 369900, 429900, 199900, 201900, 204900, 348900, 344900, 365000, 385000, 349000, 279900, 249900, 335000, 282000, 377500, 177800, 355000, 335000, 332500, 332500, 339900, 206000, 357000, 249000, 344900, 234900, 324900, 285000, 285000, 289000, 332500, 315000, 294000, 356000, 345000, 256458, 189000, 275000, 329000, 350000, 364000, 190000, 256458, 0, 265000, 225000, 349000, 420000, 380000, 222000, 285000, 330000, 220000, 580000, 309000, 285000, 285000, 285000, 285000, 285000, 285000, 285000, 285000, 285000, 194900, 296050, 339000, 339000, 357000, 360000, 204900, 204900, 229900, 274000, 229900, 229900, 274000, 545000, 165338, 349000, 234900, 334900, 229900, 249900, 249900, 249900, 234900, 329900, 294900, 169900, 339900, 194900, 0, 365000, 329900, 299000, 204900, 309000, 360000, 309000, 374000, 390000, 215000, 379500, 389000, 309990, 349000, 190000, 520000, 289000, 490000, 218000, 230000, 217000, 227000, 462000]\n"
          ]
        },
        {
          "data": {
            "image/png": "[encoded data removed]",
            "text/plain": [
              "<Figure size 1000x500 with 1 Axes>"
            ]
          },
          "metadata": {},
          "output_type": "display_data"
        }
      ],
      "source": [
        "# TODO: Code\n",
        "\n",
        "import matplotlib.pyplot as plt\n",
        "import pandas as pd\n",
        "\n",
        "ds = pd.read_csv('assets/real_estate.csv', sep=';')\n",
        "ds_arroyo = ds.loc[ds[\"level5\"]== \"Arroyomolinos (Madrid)\"] #Selecciono los valores de Arroyomolinos\n",
        "ds_arroyo_price = ds_arroyo[\"price\"] #Ahora solamente selecciono la columna de precios de Arroyomolinos\n",
        "list_arroyo = ds_arroyo_price.tolist() #Creamos una lista del dataframe filtrado\n",
        "print(list_arroyo)\n",
        "\n",
        "# Trazar el histograma de precios\n",
        "plt.figure(figsize=(10,5))\n",
        "plt.hist(list_arroyo, bins=50, alpha=0.5)\n",
        "plt.title(\"Precios Arroyomolinos\")\n",
        "plt.show()\n",
        "#Por lo que podemos observar la gran mayoría de pisos se concentran en la media de los valores de los precios (un poco menos de 300.000€)\n",
        "#Existen varios outliers que se encuentran muy por encima de los valores medios de los precios de los pisos\n",
        "#Los precios de los pisos de Arroyomolinos oscilan entre los 200.000€ y 400.000€"
      ]
    },
    {
      "attachments": {},
      "cell_type": "markdown",
      "id": "impressed-combination",
      "metadata": {},
      "source": [
        "**TODO: Markdown**. Para escribir aquí, haz doble clic en esta celda, elimina este contenido y coloca lo que quieras escribir. Luego ejecuta la celda."
      ]
    },
    {
      "attachments": {},
      "cell_type": "markdown",
      "id": "actual-edinburgh",
      "metadata": {},
      "source": [
        "#### Ejercicio 09. ¿Son los precios promedios de \"Valdemorillo\" y \"Galapagar\" los mismos? (★★☆)\n",
        "\n",
        "Imprime ambos promedios y escribe una conclusión sobre ellos."
      ]
    },
    {
      "cell_type": "code",
      "execution_count": 10,
      "id": "numeric-commerce",
      "metadata": {},
      "outputs": [
        {
          "name": "stdout",
          "output_type": "stream",
          "text": [
            "El precio medio de Valdemorillo es: 363860.29 EUR\n",
            "El precio medio de Galapagar es: 360063.20 EUR\n",
            "La diferencia de precios entre un piso en Valdemorillo y Galapagar es 3797.09 EUR\n"
          ]
        }
      ],
      "source": [
        "# TODO\n",
        "\n",
        "import pandas as pd\n",
        "\n",
        "ds = pd.read_csv('assets/real_estate.csv', sep=';')\n",
        "\n",
        "precio_medio = ds.groupby(\"level5\")[\"price\"].mean()\n",
        "precio_medio_valde = precio_medio[\"Valdemorillo\"]\n",
        "precio_medio_galapa = precio_medio[\"Galapagar\"]\n",
        "dif_precio = precio_medio_valde - precio_medio_galapa\n",
        "\n",
        "print(f\"El precio medio de Valdemorillo es: {precio_medio_valde:.2f} EUR\")\n",
        "print(f\"El precio medio de Galapagar es: {precio_medio_galapa:.2f} EUR\")\n",
        "print(f\"La diferencia de precios entre un piso en Valdemorillo y Galapagar es {dif_precio:.2f} EUR\")\n",
        "\n",
        "#El precio medio de un piso en Valdemorillo es ligeramente superior al de Galapagar.\n",
        "#La variable de dif_precio nos muestra que el precio medio de Valdemorillo es 3797.09 EUR superior al precio medio de un piso en Galapagar"
      ]
    },
    {
      "attachments": {},
      "cell_type": "markdown",
      "id": "lonely-article",
      "metadata": {},
      "source": [
        "#### Ejercicio 10. ¿Son los promedios de precio por metro cuadrado (precio/m2) de \"Valdemorillo\" y \"Galapagar\" los mismos? (★★☆)\n",
        "\n",
        "Imprime ambos promedios de precio por metro cuadrado y escribe una conclusión sobre ellos.\n",
        "\n",
        "Pista: Crea una nueva columna llamada `pps` (*price per square* o precio por metro cuadrado) y luego analiza los valores."
      ]
    },
    {
      "cell_type": "code",
      "execution_count": 11,
      "id": "hourly-globe",
      "metadata": {},
      "outputs": [
        {
          "name": "stdout",
          "output_type": "stream",
          "text": [
            "El precio medio por metro cuadrado de Valdemorillo es: 1317.95 EUR\n",
            "El precio medio por metro cuadrado de Galapagar es: 1606.32 EUR\n",
            "La diferencia de precios entre un piso en Valdemorillo y Galapagar es 288.37 EUR\n"
          ]
        }
      ],
      "source": [
        "# TODO\n",
        "import pandas as pd\n",
        "\n",
        "ds = pd.read_csv('assets/real_estate.csv', sep=';')\n",
        "ds[\"pps\"] = ds[\"price\"]/ds[\"surface\"]\n",
        "price_per_sq_mean = ds.groupby(\"level5\")[\"pps\"].mean()\n",
        "pr_sq_valde = price_per_sq_mean[\"Valdemorillo\"]\n",
        "pr_sq_galapa = price_per_sq_mean[\"Galapagar\"]\n",
        "dif_pr_sq = pr_sq_galapa - pr_sq_valde\n",
        "\n",
        "print(f\"El precio medio por metro cuadrado de Valdemorillo es: {pr_sq_valde:.2f} EUR\")\n",
        "print(f\"El precio medio por metro cuadrado de Galapagar es: {pr_sq_galapa:.2f} EUR\")\n",
        "print(f\"La diferencia de precios entre un piso en Valdemorillo y Galapagar es {dif_pr_sq:.2f} EUR\")\n",
        "\n",
        "#El precio medio por metro cuadrad de un piso en Galapagar es ligeramente superior al de Galapagar.\n",
        "#La variable de dif_pr_sq nos muestra que el precio medio de Galpagar es 288.37 EUR superior al precio medio de un piso en Valdemorillo\n"
      ]
    },
    {
      "attachments": {},
      "cell_type": "markdown",
      "id": "pleasant-invite",
      "metadata": {},
      "source": [
        "#### Ejercicio 11. Analiza la relación entre la superficie y el precio de las casas. (★★☆)\n",
        "\n",
        "Pista: Puedes hacer un `scatter plot` y luego escribir una conclusión al respecto."
      ]
    },
    {
      "cell_type": "code",
      "execution_count": null,
      "id": "common-drilling",
      "metadata": {},
      "outputs": [
        {
          "data": {
            "image/png": "[encoded data removed]",
            "text/plain": [
              "<Figure size 640x480 with 1 Axes>"
            ]
          },
          "metadata": {},
          "output_type": "display_data"
        }
      ],
      "source": [
        "# TODO: Código\n",
        "import matplotlib.pyplot as plt\n",
        "import pandas as pd\n",
        "ds = pd.read_csv('assets/real_estate.csv', sep=';')\n",
        "\n",
        "x = ds[\"surface\"]\n",
        "y = ds[\"price\"]\n",
        "plt.scatter(x, y)\n",
        "plt.xlim(0,500)\n",
        "plt.title(\"Relación superficia y precios\")\n",
        "plt.xlabel(\"Surface\")\n",
        "plt.ylabel(\"Price\")\n",
        "plt.show()\n",
        "\n",
        "#La relación de superficia y el precio es positiva por lo que se puede ver.\n",
        "#No obstante no tiene una gran correlación debido a que existen otras variables, como la zona, que influyen enormemente en el precio de los metro cuadrados.\n",
        "\n"
      ]
    },
    {
      "attachments": {},
      "cell_type": "markdown",
      "id": "ahead-liquid",
      "metadata": {},
      "source": [
        "**TODO: Markdown**. Para escribir aquí, haz doble clic en esta celda, elimina este contenido y coloca lo que quieras escribir. Luego ejecuta la celda."
      ]
    },
    {
      "attachments": {},
      "cell_type": "markdown",
      "id": "coordinate-sunrise",
      "metadata": {},
      "source": [
        "#### Ejercicio 12. ¿Cuántas agencia de bienes raíces contiene el dataset? (★★☆)\n",
        "\n",
        "Imprime el valor obtenido."
      ]
    },
    {
      "cell_type": "code",
      "execution_count": 13,
      "id": "valid-honolulu",
      "metadata": {},
      "outputs": [
        {
          "name": "stdout",
          "output_type": "stream",
          "text": [
            "El número de agencias de bienes raíces del dataset es de 1821\n"
          ]
        }
      ],
      "source": [
        "# TODO\n",
        "import pandas as pd\n",
        "\n",
        "ds = pd.read_csv('assets/real_estate.csv', sep=';')\n",
        "\n",
        "ds_agencias=ds.value_counts(\"realEstate_name\") #Así contamos cuantas filas contienen el mismo realEstate_name\n",
        "print(\"El número de agencias de bienes raíces del dataset es de \" + str(len(ds_agencias)))"
      ]
    },
    {
      "attachments": {},
      "cell_type": "markdown",
      "id": "binding-ebony",
      "metadata": {},
      "source": [
        "#### Ejercicio 13. ¿Cuál es la población (columna level5) que contiene la mayor cantidad de casas?(★★☆)\n",
        "\n",
        "Imprima la población y el número de casas."
      ]
    },
    {
      "cell_type": "code",
      "execution_count": 14,
      "id": "static-perry",
      "metadata": {},
      "outputs": [
        {
          "name": "stdout",
          "output_type": "stream",
          "text": [
            "level5\n",
            "Madrid Capital    6643\n",
            "Name: count, dtype: int64\n"
          ]
        }
      ],
      "source": [
        "# TODO\n",
        "import pandas as pd\n",
        "\n",
        "ds = pd.read_csv('assets/real_estate.csv', sep=';')\n",
        "\n",
        "ds_poblacion=ds.value_counts(\"level5\", ascending=False)\n",
        "ds_max_casas=ds_poblacion.head(1)\n",
        "\n",
        "print(ds_max_casas) #La ciudad con mayor número de casas es Madrid Capital con 6643"
      ]
    },
    {
      "attachments": {},
      "cell_type": "markdown",
      "id": "entire-classification",
      "metadata": {},
      "source": [
        "#### Ejercicio 14. Ahora vamos a trabajar con el \"cinturón sur\" de Madrid. Haz un subconjunto del DataFrame original que contenga las siguientes poblaciones (columna level5): \"Fuenlabrada\", \"Leganés\", \"Getafe\", \"Alcorcón\" (★★☆)\n",
        "\n",
        "Pista: Filtra el DataFrame original usando la columna `level5` y la función `isin`."
      ]
    },
    {
      "cell_type": "code",
      "execution_count": 15,
      "id": "binary-input",
      "metadata": {},
      "outputs": [
        {
          "name": "stdout",
          "output_type": "stream",
          "text": [
            "1        Fuenlabrada\n",
            "3        Fuenlabrada\n",
            "85          Alcorcón\n",
            "94           Leganés\n",
            "109         Alcorcón\n",
            "            ...     \n",
            "15275    Fuenlabrada\n",
            "15291        Leganés\n",
            "15305    Fuenlabrada\n",
            "15322    Fuenlabrada\n",
            "15325    Fuenlabrada\n",
            "Name: level5, Length: 907, dtype: object\n"
          ]
        }
      ],
      "source": [
        "# TODO\n",
        "import pandas as pd\n",
        "\n",
        "ds = pd.read_csv('assets/real_estate.csv', sep=';')\n",
        "cinturon_sur = [\"Fuenlabrada\", \"Leganés\", \"Getafe\", \"Alcorcón\"]\n",
        "ds_sur = ds[ds[\"level5\"].isin(cinturon_sur)]\n",
        "print(ds_sur[\"level5\"]) #Aquí vemos como solamente ha recogido las ciudades del cinturón sur de Madrid (Fuenlabrada, Leganés, Getafe y Alcorcón)"
      ]
    },
    {
      "attachments": {},
      "cell_type": "markdown",
      "id": "severe-fisher",
      "metadata": {},
      "source": [
        "#### Ejercicio 15. Traza un gráfico de barras de la mediana de los precios y explica lo que observas (debes usar el subconjunto obtenido del Ejercicio 14) (★★★)\n",
        "\n",
        "Imprima un gráfico de barras de la mediana de precios y escriba en la celda Markdown un breve análisis sobre el gráfico."
      ]
    },
    {
      "cell_type": "code",
      "execution_count": 16,
      "id": "lyric-bunch",
      "metadata": {},
      "outputs": [
        {
          "data": {
            "image/png": "[encoded data removed]",
            "text/plain": [
              "<Figure size 1000x500 with 1 Axes>"
            ]
          },
          "metadata": {},
          "output_type": "display_data"
        }
      ],
      "source": [
        "# TODO: Code\n",
        "#Subconjunto Madrid Sur\n",
        "import pandas as pd\n",
        "ds = pd.read_csv('assets/real_estate.csv', sep=';')\n",
        "cinturon_sur = [\"Fuenlabrada\", \"Leganés\", \"Getafe\", \"Alcorcón\"]\n",
        "ds_sur = ds[ds[\"level5\"].isin(cinturon_sur)]\n",
        "\n",
        "#Sacamos las medianas del precio de las casas de Madrid Sur\n",
        "ds_sur_mediana=ds_sur.groupby(\"level5\")[\"price\"].median()\n",
        "indices=ds_sur_mediana.index.tolist() #Cogemos la lista de las ciudades\n",
        "valores=ds_sur_mediana.tolist() #Cogemos la lista de los valores de las medianas de las ciudades\n",
        "\n",
        "\n",
        "#Creamos el gráfico de barras\n",
        "plt.figure(figsize=(10,5))\n",
        "plt.bar(indices, valores)\n",
        "plt.title(\"Mediana de los precios de los pisos en el Cinturón Sur\")\n",
        "plt.show()\n",
        "\n",
        "#Vemos que el orden de las medianas es: Getafe, Alcorcón, Leganés y Fuenlabrada\n"
      ]
    },
    {
      "attachments": {},
      "cell_type": "markdown",
      "id": "sublime-newspaper",
      "metadata": {},
      "source": [
        "**TODO: Markdown**. Para escribir aquí, haz doble clic en esta celda, elimina este contenido y coloca lo que quieras escribir. Luego ejecuta la celda."
      ]
    },
    {
      "attachments": {},
      "cell_type": "markdown",
      "id": "speaking-diamond",
      "metadata": {},
      "source": [
        "#### Ejercicio 16. Calcula la media y la varianza de muestra para las siguientes variables: precio, habitaciones, superficie y baños (debes usar el subconjunto obtenido del Ejercicio 14) (★★★)\n",
        "\n",
        "Imprime ambos valores por cada variable."
      ]
    },
    {
      "cell_type": "code",
      "execution_count": 17,
      "id": "random-feeling",
      "metadata": {},
      "outputs": [
        {
          "name": "stdout",
          "output_type": "stream",
          "text": [
            "level5\n",
            "Alcorcón       230071.052632\n",
            "Fuenlabrada    177198.021459\n",
            "Getafe         265040.500000\n",
            "Leganés        208682.010309\n",
            "Name: price, dtype: float64\n",
            "level5\n",
            "Alcorcón       2.914894\n",
            "Fuenlabrada    3.025974\n",
            "Getafe         3.151724\n",
            "Leganés        2.906736\n",
            "Name: rooms, dtype: float64\n",
            "level5\n",
            "Alcorcón       105.913295\n",
            "Fuenlabrada    103.624365\n",
            "Getafe         126.896266\n",
            "Leganés        105.852273\n",
            "Name: surface, dtype: float64\n",
            "level5\n",
            "Alcorcón       1.623656\n",
            "Fuenlabrada    1.445415\n",
            "Getafe         1.865052\n",
            "Leganés        1.518135\n",
            "Name: bathrooms, dtype: float64\n",
            "level5\n",
            "Alcorcón       1.594783e+10\n",
            "Fuenlabrada    4.701021e+09\n",
            "Getafe         2.098267e+10\n",
            "Leganés        1.191394e+10\n",
            "Name: price, dtype: float64\n",
            "level5\n",
            "Alcorcón       0.933895\n",
            "Fuenlabrada    0.355844\n",
            "Getafe         0.772748\n",
            "Leganés        0.824590\n",
            "Name: rooms, dtype: float64\n",
            "level5\n",
            "Alcorcón       4244.323834\n",
            "Fuenlabrada    2264.643893\n",
            "Getafe         5828.110028\n",
            "Leganés        3987.475195\n",
            "Name: surface, dtype: float64\n",
            "level5\n",
            "Alcorcón       0.592735\n",
            "Fuenlabrada    0.353367\n",
            "Getafe         0.658809\n",
            "Leganés        0.553055\n",
            "Name: bathrooms, dtype: float64\n"
          ]
        }
      ],
      "source": [
        "# TODO\n",
        "#Subconjunto Madrid Sur\n",
        "import pandas as pd\n",
        "ds = pd.read_csv('assets/real_estate.csv', sep=';')\n",
        "cinturon_sur = [\"Fuenlabrada\", \"Leganés\", \"Getafe\", \"Alcorcón\"]\n",
        "ds_sur = ds[ds[\"level5\"].isin(cinturon_sur)]\n",
        "\n",
        "#Medias\n",
        "ds_sur_media_pr=ds_sur.groupby(\"level5\")[\"price\"].mean()\n",
        "print(ds_sur_media_pr)\n",
        "ds_sur_media_rooms=ds_sur.groupby(\"level5\")[\"rooms\"].mean()\n",
        "print(ds_sur_media_rooms)\n",
        "ds_sur_media_surface=ds_sur.groupby(\"level5\")[\"surface\"].mean()\n",
        "print(ds_sur_media_surface)\n",
        "ds_sur_media_wc=ds_sur.groupby(\"level5\")[\"bathrooms\"].mean()\n",
        "print(ds_sur_media_wc)\n",
        "\n",
        "#Varianza\n",
        "ds_sur_var_pr=ds_sur.groupby(\"level5\")[\"price\"].var()\n",
        "print(ds_sur_var_pr)\n",
        "ds_sur_var_rooms=ds_sur.groupby(\"level5\")[\"rooms\"].var()\n",
        "print(ds_sur_var_rooms)\n",
        "ds_sur_var_surface=ds_sur.groupby(\"level5\")[\"surface\"].var()\n",
        "print(ds_sur_var_surface)\n",
        "ds_sur_var_wc=ds_sur.groupby(\"level5\")[\"bathrooms\"].var()\n",
        "print(ds_sur_var_wc)"
      ]
    },
    {
      "attachments": {},
      "cell_type": "markdown",
      "id": "revolutionary-matrix",
      "metadata": {},
      "source": [
        "#### Ejercicio 17. ¿Cuál es la casa más cara de cada población? Debes usar el subset obtenido en la pregunta 14 (★★☆)\n",
        "\n",
        "Imprime tanto la dirección como el precio de la casa seleccionada de cada población. Puedes imprimir un DataFrame o una sola línea para cada población."
      ]
    },
    {
      "cell_type": "code",
      "execution_count": 18,
      "id": "fifteen-browse",
      "metadata": {},
      "outputs": [
        {
          "name": "stdout",
          "output_type": "stream",
          "text": [
            "level5\n",
            "Alcorcón        950000\n",
            "Fuenlabrada     490000\n",
            "Getafe         1050000\n",
            "Leganés         650000\n",
            "Name: price, dtype: int64\n"
          ]
        }
      ],
      "source": [
        "# TODO\n",
        "#Subconjunto Madrid Sur\n",
        "import pandas as pd\n",
        "ds = pd.read_csv('assets/real_estate.csv', sep=';')\n",
        "cinturon_sur = [\"Fuenlabrada\", \"Leganés\", \"Getafe\", \"Alcorcón\"]\n",
        "ds_sur = ds[ds[\"level5\"].isin(cinturon_sur)]\n",
        "\n",
        "#Cálculo de la casa más cara\n",
        "ds_sur_max=ds_sur.groupby(\"level5\")[\"price\"].max()\n",
        "print(ds_sur_max)\n",
        "#En el print aparecen los valores de las casas más caras de cada ciudad del cinturón sur de Madrid\n",
        "\n"
      ]
    },
    {
      "attachments": {},
      "cell_type": "markdown",
      "id": "activated-knight",
      "metadata": {},
      "source": [
        "#### Ejercicio 18. Normaliza la variable de precios para cada población y traza los 4 histogramas en el mismo gráfico (debes usar el subconjunto obtenido en la pregunta 14) (★★★)\n",
        "\n",
        "Para el método de normalización, puedes usar el que consideres adecuado, no hay una única respuesta correcta para esta pregunta. Imprime el gráfico y escribe en la celda de Markdown un breve análisis sobre el gráfico.\n",
        "\n",
        "Pista: Puedes ayudarte revisando la demostración multihist de Matplotlib."
      ]
    },
    {
      "cell_type": "code",
      "execution_count": null,
      "id": "civic-meditation",
      "metadata": {},
      "outputs": [
        {
          "data": {
            "text/plain": [
              "Text(0.5, 1.0, 'Alcorcón')"
            ]
          },
          "execution_count": 31,
          "metadata": {},
          "output_type": "execute_result"
        },
        {
          "data": {
            "image/png": "[encoded data removed]",
            "text/plain": [
              "<Figure size 1000x800 with 4 Axes>"
            ]
          },
          "metadata": {},
          "output_type": "display_data"
        }
      ],
      "source": [
        "# TODO\n",
        "#Subconjunto Madrid Sur\n",
        "import pandas as pd\n",
        "ds = pd.read_csv('assets/real_estate.csv', sep=';')\n",
        "cinturon_sur = [\"Fuenlabrada\", \"Leganés\", \"Getafe\", \"Alcorcón\"]\n",
        "ds_sur = ds[ds[\"level5\"].isin(cinturon_sur)]\n",
        "ds_fuenla=ds[ds[\"level5\"] == \"Fuenlabrada\"]\n",
        "ds_lega=ds[ds[\"level5\"] == \"Leganés\"]\n",
        "ds_geta=ds[ds[\"level5\"] == \"Getafe\"]\n",
        "ds_alcor=ds[ds[\"level5\"] == \"Alcorcón\"]\n",
        "\n",
        "#Normalización: voy a efectuar el método de dividir cada valor por el valor máximo de cada ciudad para que eston oscilen dentre 0 y 1\n",
        "#Fuenlabrada\n",
        "ds_fuenla_n=ds_fuenla[\"price\"]/ds_fuenla[\"price\"].max()\n",
        "#Leganés\n",
        "ds_lega_n=ds_lega[\"price\"]/ds_lega[\"price\"].max()\n",
        "#Getafe\n",
        "ds_geta_n=ds_geta[\"price\"]/ds_geta[\"price\"].max()\n",
        "#Alcorcón\n",
        "ds_alcor_n=ds_alcor[\"price\"]/ds_alcor[\"price\"].max()\n",
        "\n",
        "#Historiogramas\n",
        "fig, axs = plt.subplots(2, 2, figsize=(10,8))\n",
        "#Fuenlabrada\n",
        "axs[0, 0].hist(ds_fuenla_n)\n",
        "axs[0, 0].set_title(\"Fuenlabrada\")\n",
        "#Leganés\n",
        "axs[0, 1].hist(ds_lega_n)\n",
        "axs[0, 1].set_title(\"Leganés\")\n",
        "#Getafe\n",
        "axs[1, 0].hist(ds_geta_n)\n",
        "axs[1, 0].set_title(\"Getafe\")\n",
        "#Alcorcón\n",
        "axs[1, 1].hist(ds_alcor_n)\n",
        "axs[1, 1].set_title(\"Alcorcón\")\n",
        "\n",
        "#Vemos como en Getafe el precio de los pisos se encuentran mucho más normalizados (más próximos a la media)\n",
        "#Fuenlabra y Leganés tienen la mayoría de pisos por debajo de su media\n",
        "#Alcorcón tiene la gran mayoría de pisos en el rengo mínimo de precios normalizados"
      ]
    },
    {
      "attachments": {},
      "cell_type": "markdown",
      "id": "precise-heavy",
      "metadata": {},
      "source": [
        "**TODO: Markdown**. Para escribir aquí, haz doble clic en esta celda, elimina este contenido y coloca lo que quieras escribir. Luego ejecuta la celda."
      ]
    },
    {
      "attachments": {},
      "cell_type": "markdown",
      "id": "patent-jonathan",
      "metadata": {},
      "source": [
        "#### Ejercicio 19. ¿Qué puedes decir sobre el precio por metro cuadrado (precio/m2) entre los municipios de 'Getafe' y 'Alcorcón'? Debes usar el subconjunto obtenido en la pregunta 14 (★★☆)\n",
        "\n",
        "Pista: Crea una nueva columna llamada `pps` (price per square en inglés) y luego analiza los valores"
      ]
    },
    {
      "cell_type": "code",
      "execution_count": null,
      "id": "initial-liverpool",
      "metadata": {},
      "outputs": [
        {
          "name": "stdout",
          "output_type": "stream",
          "text": [
            "265040.5\n",
            "230071.05263157896\n"
          ]
        }
      ],
      "source": [
        "# TODO\n",
        "#Subconjunto Madrid Sur\n",
        "import pandas as pd\n",
        "ds = pd.read_csv('assets/real_estate.csv', sep=';')\n",
        "ds[\"pps_sur\"] = ds[\"price\"]/ds[\"surface\"] #Añadimos una columna con el precio por metro cuadrado\n",
        "cinturon_sur = [\"Fuenlabrada\", \"Leganés\", \"Getafe\", \"Alcorcón\"]\n",
        "ds_sur = ds[ds[\"level5\"].isin(cinturon_sur)]\n",
        "\n",
        "\n",
        "ds_geta=ds[ds[\"level5\"] == \"Getafe\"] #Solamente seleccionamos Getafe\n",
        "ds_alcor=ds[ds[\"level5\"] == \"Alcorcón\"] #Solamente seleccionamos Alcorcón\n",
        "\n",
        "ds_geta_price=ds_geta[\"price\"].mean()\n",
        "print(ds_geta_price)\n",
        "ds_alcor_price=ds_alcor[\"price\"].mean()\n",
        "print(ds_alcor_price)\n",
        "#Podemos ver que la media del precio de los pisos en Getafe es aproximadamente más cara por 30.000 EUR"
      ]
    },
    {
      "attachments": {},
      "cell_type": "markdown",
      "id": "enhanced-moscow",
      "metadata": {},
      "source": [
        "#### Ejercicio 20. Realiza el mismo gráfico para 4 poblaciones diferentes (columna level5) y colócalos en el mismo gráfico. Debes usar el subconjunto obtenido en la pregunta 14 (★★☆) \n",
        "Pista: Haz un diagrama de dispersión de cada población usando subgráficos (subplots)."
      ]
    },
    {
      "cell_type": "code",
      "execution_count": 53,
      "id": "accepting-airfare",
      "metadata": {},
      "outputs": [
        {
          "data": {
            "text/plain": [
              "Text(0.5, 1.0, 'Alcorcón')"
            ]
          },
          "execution_count": 53,
          "metadata": {},
          "output_type": "execute_result"
        },
        {
          "data": {
            "image/png": "[encoded data removed]",
            "text/plain": [
              "<Figure size 1000x800 with 4 Axes>"
            ]
          },
          "metadata": {},
          "output_type": "display_data"
        }
      ],
      "source": [
        "# TODO\n",
        "import pandas as pd\n",
        "ds = pd.read_csv('assets/real_estate.csv', sep=';')\n",
        "cinturon_sur = [\"Fuenlabrada\", \"Leganés\", \"Getafe\", \"Alcorcón\"]\n",
        "ds_sur = ds[ds[\"level5\"].isin(cinturon_sur)]\n",
        "ds_fuenla=ds[ds[\"level5\"] == \"Fuenlabrada\"]\n",
        "ds_lega=ds[ds[\"level5\"] == \"Leganés\"]\n",
        "ds_geta=ds[ds[\"level5\"] == \"Getafe\"]\n",
        "ds_alcor=ds[ds[\"level5\"] == \"Alcorcón\"]\n",
        "\n",
        "#Cojo los precios de cada ciudad\n",
        "ds_fuenla_pr=ds_fuenla[\"price\"] #Fuenlabrada\n",
        "ds_lega_pr=ds_lega[\"price\"] #Leganés\n",
        "ds_geta_pr=ds_geta[\"price\"] #Getafe\n",
        "ds_alcor_pr=ds_alcor[\"price\"] #Alcorcón\n",
        "\n",
        "x_fuenla = range(len(ds_fuenla))\n",
        "x_lega =  range(len(ds_lega))\n",
        "x_geta = range(len(ds_geta))\n",
        "x_alcor = range(len(ds_alcor))\n",
        "fig, axs = plt.subplots(2, 2, figsize=(10,8))\n",
        "#Fuenlabrada\n",
        "axs[0, 0].scatter(x_fuenla, ds_fuenla_pr)\n",
        "axs[0, 0].set_title(\"Fuenlabrada\")\n",
        "#Leganés\n",
        "axs[0, 1].scatter(x_lega, ds_lega_pr)\n",
        "axs[0, 1].set_title(\"Leganés\")\n",
        "#Getafe\n",
        "axs[1, 0].scatter(x_geta, ds_geta_pr)\n",
        "axs[1, 0].set_title(\"Getafe\")\n",
        "#Alcorcón\n",
        "axs[1, 1].scatter(x_alcor, ds_alcor_pr)\n",
        "axs[1, 1].set_title(\"Alcorcón\")\n",
        "\n"
      ]
    },
    {
      "attachments": {},
      "cell_type": "markdown",
      "id": "blocked-effects",
      "metadata": {},
      "source": [
        "#### Ejercicio 21. Realiza un trazado de las coordenadas (columnas latitud y longitud) del cinturón sur de Madrid por color de cada población (debes usar el subconjunto obtenido del Ejercicio 14) (★★★★)\n",
        "\n",
        "Ejecuta la siguiente celda y luego comienza a codear en la siguiente. Debes implementar un código simple que transforme las columnas de coordenadas en un diccionario de Python (agrega más información si es necesario) y agrégala al mapa."
      ]
    },
    {
      "cell_type": "code",
      "execution_count": 54,
      "id": "headed-privacy",
      "metadata": {},
      "outputs": [
        {
          "data": {
            "application/vnd.jupyter.widget-view+json": {
              "model_id": "0f3414aaf30a4973af0beb56bb91845a",
              "version_major": 2,
              "version_minor": 0
            },
            "text/plain": [
              "Map(center=[40.35, -3.8], controls=(ZoomControl(options=['position', 'zoom_in_text', 'zoom_in_title', 'zoom_ou…"
            ]
          },
          "execution_count": 54,
          "metadata": {},
          "output_type": "execute_result"
        }
      ],
      "source": [
        "from ipyleaflet import Map, basemaps\n",
        "\n",
        "# Mapa centrado en Madrid\n",
        "map = Map(center = (40.35, -3.8), zoom = 11.5, min_zoom = 1, max_zoom = 20, \n",
        "    basemap=basemaps.OpenStreetMap.Mapnik)\n",
        "map"
      ]
    },
    {
      "cell_type": "code",
      "execution_count": 23,
      "id": "present-mistress",
      "metadata": {},
      "outputs": [],
      "source": [
        "## Aquí: traza la coordenadas de los estados\n",
        "\n",
        "## PON TU CÓDIGO AQUÍ:\n"
      ]
    }
  ],
  "metadata": {
    "kernelspec": {
      "display_name": "Python 3",
      "language": "python",
      "name": "python3"
    },
    "language_info": {
      "codemirror_mode": {
        "name": "ipython",
        "version": 3
      },
      "file_extension": ".py",
      "mimetype": "text/x-python",
      "name": "python",
      "nbconvert_exporter": "python",
      "pygments_lexer": "ipython3",
      "version": "3.11.4"
    }
  },
  "nbformat": 4,
  "nbformat_minor": 5
}
